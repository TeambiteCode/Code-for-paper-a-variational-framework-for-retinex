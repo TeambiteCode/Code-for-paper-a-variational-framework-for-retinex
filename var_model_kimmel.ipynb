{
 "cells": [
  {
   "cell_type": "code",
   "execution_count": 417,
   "metadata": {},
   "outputs": [],
   "source": [
    "import numpy as np\n",
    "import seaborn as sns\n",
    "import cv2\n",
    "\n",
    "from scipy.ndimage.filters import gaussian_filter"
   ]
  },
  {
   "cell_type": "code",
   "execution_count": null,
   "metadata": {},
   "outputs": [],
   "source": [
    "def gauss_(s, k_pyr):\n",
    "    n, m = s.shape\n",
    "    s_new = np.zeros((n+2, m+2))\n",
    "    s_new[1:-1, 1:-1] = s\n",
    "    s_new[0, 1:-1] = s[0,:]\n",
    "    s_new[-1, 1:-1] = s[-1, :]\n",
    "    s_new[1:-1,0] = s[:,0]\n",
    "    s_new[1:-1,-1] = s[:,-1]\n",
    "    s_nxt = np.zeros((n, m))\n",
    "#     print(s_new)\n",
    "    \n",
    "    for i in range(n):\n",
    "        for j in range(m):\n",
    "            s_nxt[i,j] = np.sum(s_new[i:i+3,j:j+3] * k_pyr)\n",
    "#             print(i, j, s_nxt[i,j])\n",
    "            \n",
    "    return s_nxt\n",
    "\n",
    "\n",
    "def gauss(s, k_pyr):\n",
    "    n, m = s.shape\n",
    "    s_nxt = np.zeros((n-2, m-2))\n",
    "    \n",
    "    for i in range(n-2):\n",
    "        for j in range(m-2):\n",
    "            s_nxt[i,j] = np.sum(s[i:i+3,j:j+3] * k_pyr)\n",
    "            \n",
    "    return s_nxt"
   ]
  },
  {
   "cell_type": "code",
   "execution_count": 292,
   "metadata": {},
   "outputs": [],
   "source": [
    "def up_scale(l):\n",
    "    n, m = l.shape\n",
    "\n",
    "    ind_x = np.tile(np.arange(n), (m, 1)).T *2\n",
    "    ind_y = np.tile(np.arange(m), (n, 1)) *2\n",
    "    out = np.zeros((2*n, 2*m))\n",
    "\n",
    "    out[ind_x, ind_y] = l\n",
    "    out[ind_x+1, ind_y] = l\n",
    "    out[ind_x, ind_y+1] = l\n",
    "    out[ind_x+1, ind_y+1] = l\n",
    "\n",
    "    return out"
   ]
  },
  {
   "cell_type": "code",
   "execution_count": null,
   "metadata": {},
   "outputs": [],
   "source": []
  },
  {
   "cell_type": "code",
   "execution_count": null,
   "metadata": {},
   "outputs": [],
   "source": [
    "def decimate(s):\n",
    "    n, m  = s.shape\n",
    "    ind_x = np.tile(np.arange(0, n, 2), (int((m+1)/2),1)).T\n",
    "    ind_y = np.tile(np.arange(0, m, 2), (int((n+1)/2),1))\n",
    "#     print(ind_x)\n",
    "#     print(ind_y)\n",
    "    \n",
    "    return s[ind_x, ind_y]\n",
    "    "
   ]
  },
  {
   "cell_type": "code",
   "execution_count": null,
   "metadata": {},
   "outputs": [],
   "source": [
    "def num_laplace(G, k):\n",
    "    return cv2.Laplacian(G, cv2.CV_64F) * 2**(-2*(k-1))\n",
    "\n",
    "def my_num_laplace(G):\n",
    "    kernel = np.array([[0,1,0], [1,-4,1], [0,1,0]])\n",
    "    out = gauss_(G, kernel)\n",
    "    return out\n",
    "    \n",
    "#     return cv2.Laplacian(G, ddepth=cv2.CV_64F,ksize=3) #* 2**(-2*(k-1))"
   ]
  },
  {
   "cell_type": "code",
   "execution_count": 293,
   "metadata": {},
   "outputs": [],
   "source": []
  },
  {
   "cell_type": "code",
   "execution_count": null,
   "metadata": {},
   "outputs": [],
   "source": []
  },
  {
   "cell_type": "code",
   "execution_count": 294,
   "metadata": {},
   "outputs": [],
   "source": [
    "# n, m = 100, 100\n",
    "# p = 3\n",
    "\n",
    "# k_pyr = np.array([[1, 2, 1], [2, 4, 2], [1, 2, 1]]) /16\n",
    "# k = cv2.getGaussianKernel(3, 0)\n",
    "# k = k*k.T\n",
    "\n",
    "\n",
    "# print(k_pyr)\n",
    "# print(k)"
   ]
  },
  {
   "cell_type": "code",
   "execution_count": null,
   "metadata": {},
   "outputs": [],
   "source": []
  },
  {
   "cell_type": "code",
   "execution_count": 295,
   "metadata": {},
   "outputs": [],
   "source": [
    "# s_nxt = gauss(s_ori, k_pyr)\n",
    "# s_nxt_ = gauss_(s_ori, k_pyr)\n",
    "\n",
    "# # s__ = cv2.filter2D(s, -1, k)\n",
    "# s__ = cv2.GaussianBlur(s_ori , (3, 3), 0)\n",
    "\n",
    "# print(s_nxt)\n",
    "# print()\n",
    "# print(s_nxt_)\n",
    "# print()\n",
    "# print(s__)\n",
    "\n",
    "\n",
    "\n",
    "# # s = s_nxt\n",
    "                 \n",
    "# print(decimate(s__))                 "
   ]
  },
  {
   "cell_type": "code",
   "execution_count": null,
   "metadata": {},
   "outputs": [],
   "source": []
  },
  {
   "cell_type": "code",
   "execution_count": null,
   "metadata": {},
   "outputs": [],
   "source": []
  },
  {
   "cell_type": "code",
   "execution_count": null,
   "metadata": {},
   "outputs": [],
   "source": []
  },
  {
   "cell_type": "markdown",
   "metadata": {},
   "source": [
    "<h2> Main Loop"
   ]
  },
  {
   "cell_type": "code",
   "execution_count": 296,
   "metadata": {},
   "outputs": [],
   "source": [
    "# k_lap = np.array([[0, 1, 0], [1, -4, 1], [0, 1, 0]])\n",
    "\n",
    "# # Gb = gauss(s, k_lap)\n",
    "# Gb = cv2.Laplacian(s, cv2.CV_64F)\n",
    "\n",
    "# print(s0)\n",
    "# print(s1)"
   ]
  },
  {
   "cell_type": "code",
   "execution_count": null,
   "metadata": {},
   "outputs": [],
   "source": []
  },
  {
   "cell_type": "code",
   "execution_count": 297,
   "metadata": {},
   "outputs": [],
   "source": [
    "# x = .5\n",
    "# y = cv2.Laplacian(x, cv2.CV_64F)\n",
    "\n",
    "# print(y.shape)\n",
    "# print(x.shape, y.shape)"
   ]
  },
  {
   "cell_type": "code",
   "execution_count": null,
   "metadata": {},
   "outputs": [],
   "source": []
  },
  {
   "cell_type": "code",
   "execution_count": null,
   "metadata": {},
   "outputs": [],
   "source": []
  },
  {
   "cell_type": "markdown",
   "metadata": {
    "collapsed": true
   },
   "source": [
    "<h2> Main"
   ]
  },
  {
   "cell_type": "code",
   "execution_count": 388,
   "metadata": {},
   "outputs": [],
   "source": [
    "S = cv2.imread('C:/Users/User/Downloads/uni/CO421/image2.jpg', cv2.IMREAD_GRAYSCALE)\n",
    "cv2.imshow('im1', S)\n",
    "cv2.waitKey(0)\n",
    "cv2.destroyAllWindows()"
   ]
  },
  {
   "cell_type": "code",
   "execution_count": 545,
   "metadata": {},
   "outputs": [
    {
     "name": "stdout",
     "output_type": "stream",
     "text": [
      "3.0 255.99999999999991\n"
     ]
    }
   ],
   "source": [
    "# 0 to inf correction\n",
    "S_mod = S.astype(np.float64)\n",
    "S_mod += 1\n",
    "S_mod = np.where(S>255, 255, S_mod)\n",
    "\n",
    "print(np.min(S_mod), np.max(S_mod))\n",
    "\n",
    "cv2.imshow('im2', S_mod/255)\n",
    "cv2.waitKey(0)\n",
    "cv2.destroyAllWindows()"
   ]
  },
  {
   "cell_type": "code",
   "execution_count": 546,
   "metadata": {},
   "outputs": [
    {
     "name": "stdout",
     "output_type": "stream",
     "text": [
      "1 (600, 1200)\n",
      "2 (300, 600)\n",
      "3 (150, 300)\n",
      "4 (75, 150)\n",
      "5 (38, 75)\n",
      "6 (19, 38)\n",
      "7 (10, 19)\n",
      "8 (5, 10)\n",
      "9 (3, 5)\n",
      "10 (2, 3)\n"
     ]
    }
   ],
   "source": [
    "s_ori = np.log(S_mod)\n",
    "\n",
    "# S_ = np.exp(s_ori)\n",
    "# cv2.imshow('im3', S_/255)\n",
    "# cv2.waitKey(0)\n",
    "# cv2.destroyAllWindows()\n",
    "\n",
    "\n",
    "p = 10\n",
    "\n",
    "s_pyr = {}\n",
    "\n",
    "s_pyr[1] = s_ori\n",
    "\n",
    "for i in range(1, p):\n",
    "    s = s_pyr[i]\n",
    "    s_nxt = cv2.GaussianBlur(s , (3, 3), 0)\n",
    "    s_pyr[i+1] = decimate(s_nxt)\n",
    "\n",
    "for i in s_pyr:\n",
    "    print(i, s_pyr[i].shape)\n",
    "    "
   ]
  },
  {
   "cell_type": "code",
   "execution_count": 547,
   "metadata": {},
   "outputs": [],
   "source": [
    "for i in range(1, p+1):\n",
    "    S_pyr = np.exp(s_pyr[i])\n",
    "    for i in range(i-1):\n",
    "        S_pyr = up_scale(S_pyr)\n",
    "    cv2.imshow('im3', S_pyr/255)\n",
    "    cv2.waitKey(0)\n",
    "    cv2.destroyAllWindows()"
   ]
  },
  {
   "cell_type": "code",
   "execution_count": 548,
   "metadata": {},
   "outputs": [
    {
     "name": "stdout",
     "output_type": "stream",
     "text": [
      "K 10 (2, 3) (2, 3) 4.191401326066419 4.191401326066419\n",
      "\n",
      "K 9 (3, 5) (4, 6) 4.295779620766383 4.1914547967736775\n",
      "\n",
      "K 8 (5, 10) (6, 10) 4.452170180092242 4.2959331780400545\n",
      "\n",
      "K 7 (10, 19) (10, 20) 4.878235675575677 4.452598776005438\n",
      "\n",
      "K 6 (19, 38) (20, 38) 5.2912480572332 4.890663311303346\n",
      "\n",
      "K 5 (38, 75) (38, 76) 5.534969970452513 5.328773532879069\n",
      "\n",
      "K 4 (75, 150) (76, 150) 5.541512941575129 5.588323001030166\n",
      "\n",
      "K 3 (150, 300) (150, 300) 5.542269835939125 5.667881925419334\n",
      "\n",
      "K 2 (300, 600) (300, 600) 5.544198969649278 5.749979968906675\n",
      "\n",
      "K 1 (600, 1200) (600, 1200) 5.545177444479562 5.801934655703318\n",
      "\n",
      "(600, 1200)\n"
     ]
    }
   ],
   "source": [
    "k = p\n",
    "\n",
    "a = .1\n",
    "b = 1000\n",
    "\n",
    "l = {}\n",
    "\n",
    "l[0] = s_pyr[p]\n",
    "# l[0] = np.array(np.max(s_pyr[p])).reshape((1, 1))\n",
    "\n",
    "Tk = 10\n",
    "\n",
    "\n",
    "while k > 0:\n",
    "\n",
    "    print(\"K\", k, s_pyr[k].shape, l[0].shape, np.max(s_pyr[k]), np.max(l[0]))\n",
    "\n",
    "    # print(s_pyr[k])\n",
    "    # UPSAMPLE error\n",
    "    if (s_pyr[k].shape[0] < l[0].shape[0]):\n",
    "        l[0] = l[0][:-1, :]\n",
    "    if (s_pyr[k].shape[1] < l[0].shape[1]):\n",
    "        l[0] = l[0][:, :-1]\n",
    "\n",
    "\n",
    "    Gb = num_laplace(s_pyr[k], k)\n",
    "\n",
    "#     print(\"K\", k, Gb.shape, s_pyr[k].shape, l[0].shape)\n",
    "    # print(l)\n",
    "\n",
    "    for j in range(1, Tk+1):\n",
    "        \n",
    "        Ga = num_laplace(l[j-1], k)\n",
    "        # print(Ga.shape, Gb.shape, s_pyr[k].shape)\n",
    "        \n",
    "        G = Ga + a*(l[j-1]-s_pyr[k]) - b*(Ga-Gb)\n",
    "        # print(G.shape)\n",
    "        # print(np.max(G),np.max(Ga), np.max(Gb))\n",
    "\n",
    "        u_a = np.sum(G*G)\n",
    "\n",
    "        u_b = -1* np.sum(G * num_laplace(G, k))\n",
    "\n",
    "        u_NSD = u_a/(a*u_a + (1+b)*u_b)\n",
    "#         print(\"u_NDS\", u_NSD)\n",
    "\n",
    "        l[j] = l[j-1] -u_NSD*G\n",
    "    #     print(l[j].shape)\n",
    "\n",
    "        l[j] = np.maximum(s_pyr[k], l[j])\n",
    "\n",
    "#         print (\"J\", j, Ga.shape, u_a.shape, u_b.shape, l[j].shape)\n",
    "    \n",
    "    out = l[Tk]\n",
    "    l = {}\n",
    "    l[0] = up_scale(out)\n",
    "    print()\n",
    "    \n",
    "    \n",
    "    k-= 1\n",
    "    \n",
    "print (out.shape)"
   ]
  },
  {
   "cell_type": "code",
   "execution_count": 549,
   "metadata": {},
   "outputs": [
    {
     "name": "stdout",
     "output_type": "stream",
     "text": [
      "0.9204836461399304\n"
     ]
    },
    {
     "data": {
      "image/png": "[encoded data removed]",
      "text/plain": [
       "<Figure size 432x288 with 1 Axes>"
      ]
     },
     "metadata": {
      "needs_background": "light"
     },
     "output_type": "display_data"
    }
   ],
   "source": [
    "ill = out\n",
    "\n",
    "ref = s_ori - ill\n",
    "\n",
    "R = np.exp(ref)\n",
    "\n",
    "sns.distplot(R.flatten(),  bins=100)\n",
    "print(np.mean(R))"
   ]
  },
  {
   "cell_type": "code",
   "execution_count": 550,
   "metadata": {},
   "outputs": [],
   "source": [
    "cv2.imshow('ref', R)\n",
    "cv2.waitKey(0)\n",
    "cv2.destroyAllWindows()"
   ]
  },
  {
   "cell_type": "code",
   "execution_count": 551,
   "metadata": {},
   "outputs": [],
   "source": [
    "# sns.distplot(ill.flatten(),  bins=100, hist_kws=dict(cumulative=True), kde_kws=dict(cumulative=True))"
   ]
  },
  {
   "cell_type": "code",
   "execution_count": 552,
   "metadata": {},
   "outputs": [
    {
     "data": {
      "text/plain": [
       "<matplotlib.axes._subplots.AxesSubplot at 0x2a0256ead30>"
      ]
     },
     "execution_count": 552,
     "metadata": {},
     "output_type": "execute_result"
    },
    {
     "data": {
      "image/png": "[encoded data removed]",
      "text/plain": [
       "<Figure size 432x288 with 1 Axes>"
      ]
     },
     "metadata": {
      "needs_background": "light"
     },
     "output_type": "display_data"
    }
   ],
   "source": [
    "ill_mod = np.clip(ill, a_min = 0, a_max = 100)\n",
    "sns.distplot(ill_mod.flatten(),  bins=100)"
   ]
  },
  {
   "cell_type": "code",
   "execution_count": 553,
   "metadata": {},
   "outputs": [],
   "source": [
    "# sns.distplot(ill_mod.flatten(),  bins=100, hist_kws=dict(cumulative=True), kde_kws=dict(cumulative=True))"
   ]
  },
  {
   "cell_type": "code",
   "execution_count": 554,
   "metadata": {},
   "outputs": [
    {
     "data": {
      "text/plain": [
       "<matplotlib.axes._subplots.AxesSubplot at 0x2a024a01978>"
      ]
     },
     "execution_count": 554,
     "metadata": {},
     "output_type": "execute_result"
    },
    {
     "data": {
      "image/png": "[encoded data removed]",
      "text/plain": [
       "<Figure size 432x288 with 1 Axes>"
      ]
     },
     "metadata": {
      "needs_background": "light"
     },
     "output_type": "display_data"
    }
   ],
   "source": [
    "sns.distplot(s_ori.flatten(),  bins=100)"
   ]
  },
  {
   "cell_type": "code",
   "execution_count": 564,
   "metadata": {},
   "outputs": [],
   "source": [
    "gamma = 4\n",
    "\n",
    "\n",
    "L = np.exp(ill_mod)\n",
    "\n",
    "S = np.exp(s_ori)\n",
    "\n",
    "R = np.exp(ref)\n",
    "\n",
    "W = np.ones(S.shape) * 255\n",
    "\n",
    "L_ = W * np.power((L/W), 1/gamma)\n",
    "\n",
    "# S_ = (L_/L) * S\n",
    "\n",
    "S_ = L_ * R"
   ]
  },
  {
   "cell_type": "code",
   "execution_count": 565,
   "metadata": {},
   "outputs": [
    {
     "data": {
      "text/plain": [
       "<matplotlib.axes._subplots.AxesSubplot at 0x2a025e36cc0>"
      ]
     },
     "execution_count": 565,
     "metadata": {},
     "output_type": "execute_result"
    },
    {
     "data": {
      "image/png": "[encoded data removed]",
      "text/plain": [
       "<Figure size 432x288 with 1 Axes>"
      ]
     },
     "metadata": {
      "needs_background": "light"
     },
     "output_type": "display_data"
    }
   ],
   "source": [
    "sns.distplot(S_.flatten(),  bins=100)"
   ]
  },
  {
   "cell_type": "code",
   "execution_count": 566,
   "metadata": {},
   "outputs": [],
   "source": [
    "cv2.imshow('orig', S/255)\n",
    "cv2.waitKey(0)\n",
    "cv2.destroyAllWindows()\n",
    "\n",
    "cv2.imshow('GC', S_/255)\n",
    "cv2.waitKey(0)\n",
    "cv2.destroyAllWindows()"
   ]
  },
  {
   "cell_type": "code",
   "execution_count": null,
   "metadata": {},
   "outputs": [],
   "source": []
  }
 ],
 "metadata": {
  "kernelspec": {
   "display_name": "Python 3",
   "language": "python",
   "name": "python3"
  },
  "language_info": {
   "codemirror_mode": {
    "name": "ipython",
    "version": 3
   },
   "file_extension": ".py",
   "mimetype": "text/x-python",
   "name": "python",
   "nbconvert_exporter": "python",
   "pygments_lexer": "ipython3",
   "version": "3.6.5"
  }
 },
 "nbformat": 4,
 "nbformat_minor": 2
}
